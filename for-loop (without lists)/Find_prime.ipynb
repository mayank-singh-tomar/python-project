{
 "cells": [
  {
   "cell_type": "markdown",
   "metadata": {},
   "source": [
    "Given a positive integer, find out if it’s prime or not."
   ]
  },
  {
   "cell_type": "code",
   "execution_count": 1,
   "metadata": {},
   "outputs": [
    {
     "name": "stdout",
     "output_type": "stream",
     "text": [
      "5  is a prime no.\n"
     ]
    }
   ],
   "source": [
    "num=int(input(\"enter a integer\"))\n",
    "# Take a variable to count no. of division\n",
    "count=0\n",
    "# Factors of any no. not different after its square root value\n",
    "for i in range(2,int(num**0.5)+1):\n",
    "    # divide to check it is divisible or not\n",
    "    if num%i==0:\n",
    "        count+=1\n",
    "# If any no. is divisible then its not prime no.\n",
    "if count>0:\n",
    "    print(num,\" is not a prime no.\")\n",
    "else:\n",
    "    print(num,\" is a prime no.\")\n",
    "    "
   ]
  },
  {
   "cell_type": "code",
   "execution_count": null,
   "metadata": {},
   "outputs": [],
   "source": []
  }
 ],
 "metadata": {
  "kernelspec": {
   "display_name": "Python 3",
   "language": "python",
   "name": "python3"
  },
  "language_info": {
   "codemirror_mode": {
    "name": "ipython",
    "version": 3
   },
   "file_extension": ".py",
   "mimetype": "text/x-python",
   "name": "python",
   "nbconvert_exporter": "python",
   "pygments_lexer": "ipython3",
   "version": "3.11.4"
  }
 },
 "nbformat": 4,
 "nbformat_minor": 2
}
