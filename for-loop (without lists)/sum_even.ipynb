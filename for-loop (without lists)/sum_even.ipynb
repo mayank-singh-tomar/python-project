{
 "cells": [
  {
   "cell_type": "markdown",
   "metadata": {},
   "source": [
    "Given a positive integer, find out the sum of all even numbers from 2 up to this number."
   ]
  },
  {
   "cell_type": "code",
   "execution_count": 1,
   "metadata": {},
   "outputs": [
    {
     "name": "stdout",
     "output_type": "stream",
     "text": [
      "the sum of even no. upto 52 is 702\n"
     ]
    }
   ],
   "source": [
    "num=int(input(\"enter a positive integer\"))\n",
    "# Take a variable to store sum\n",
    "add=0\n",
    "# Check if no. is negative or not\n",
    "if num>0:\n",
    "      # Run loop by the gap of 2 so every even no. get cover.\n",
    "    for i in range(2,num+1,2):\n",
    "        # Add one by one\n",
    "        add=add+i\n",
    "    print(\"the sum of even no. upto\",num,\"is\",add)\n",
    "else:\n",
    "    print(\"please enter positive integer\")"
   ]
  },
  {
   "cell_type": "code",
   "execution_count": null,
   "metadata": {},
   "outputs": [],
   "source": []
  }
 ],
 "metadata": {
  "kernelspec": {
   "display_name": "Python 3",
   "language": "python",
   "name": "python3"
  },
  "language_info": {
   "codemirror_mode": {
    "name": "ipython",
    "version": 3
   },
   "file_extension": ".py",
   "mimetype": "text/x-python",
   "name": "python",
   "nbconvert_exporter": "python",
   "pygments_lexer": "ipython3",
   "version": "3.11.4"
  }
 },
 "nbformat": 4,
 "nbformat_minor": 2
}
