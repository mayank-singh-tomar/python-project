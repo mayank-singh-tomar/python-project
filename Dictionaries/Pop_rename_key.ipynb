{
 "cells": [
  {
   "cell_type": "markdown",
   "metadata": {},
   "source": [
    "Remove a key from a dictionary:\n",
    "dict_name.pop(key_name)\n",
    "What does this function return?\n",
    "Use pop to rename a key."
   ]
  },
  {
   "cell_type": "code",
   "execution_count": 3,
   "metadata": {},
   "outputs": [
    {
     "data": {
      "text/plain": [
       "'New york'"
      ]
     },
     "execution_count": 3,
     "metadata": {},
     "output_type": "execute_result"
    }
   ],
   "source": [
    "sample_dict = { \"name\": \"Kelly\", \"age\": 25, \"salary\": 8000, \"city\": \"New york\"}\n",
    "sample_dict.pop('city')\n",
    "#The function return the value of removed key\n"
   ]
  },
  {
   "cell_type": "code",
   "execution_count": 2,
   "metadata": {},
   "outputs": [
    {
     "name": "stdout",
     "output_type": "stream",
     "text": [
      "{'name': 'Kelly', 'salary': 8000, 'city': 'New york', 'Umra': 25}\n"
     ]
    }
   ],
   "source": [
    "sample_dict = { \"name\": \"Kelly\", \"age\": 25, \"salary\": 8000, \"city\": \"New york\"}\n",
    "\n",
    "# Use the pop() to remove the item with key 'age' from the dictionary\n",
    "# and assign its value to a new key 'd'\n",
    "sample_dict['Umra'] = sample_dict.pop('age')\n",
    "\n",
    "print(sample_dict)\n"
   ]
  },
  {
   "cell_type": "code",
   "execution_count": null,
   "metadata": {},
   "outputs": [],
   "source": []
  }
 ],
 "metadata": {
  "kernelspec": {
   "display_name": "Python 3",
   "language": "python",
   "name": "python3"
  },
  "language_info": {
   "codemirror_mode": {
    "name": "ipython",
    "version": 3
   },
   "file_extension": ".py",
   "mimetype": "text/x-python",
   "name": "python",
   "nbconvert_exporter": "python",
   "pygments_lexer": "ipython3",
   "version": "3.11.4"
  }
 },
 "nbformat": 4,
 "nbformat_minor": 2
}
