{
 "cells": [
  {
   "cell_type": "markdown",
   "metadata": {},
   "source": [
    "Convert these two lists into a dictionary. Take the keys from the first list, and values from the second one.\n",
    "keys = [‘Ten’, ‘Twenty’, ‘Thirty’]\n",
    "values = [10, 20, 30]"
   ]
  },
  {
   "cell_type": "code",
   "execution_count": null,
   "metadata": {},
   "outputs": [],
   "source": [
    "# Define two lists: one for keys and one for values\n",
    "keys = ['Ten', 'Twenty', 'Thirty']\n",
    "values = [10, 20, 30]\n",
    "\n",
    "# Initialize an empty dictionary to store the key-value pairs\n",
    "dict1={}\n",
    "\n",
    "# Calculate the length of the keys and values lists\n",
    "len_keys=len(keys)\n",
    "len_values=len(values)\n",
    "\n",
    "# Check if the lengths of the keys and values lists are equal\n",
    "if len_keys==len_values:\n",
    "    # If they are equal, iterate over the range of the length of the keys list\n",
    "    for i in range(len_keys):\n",
    "        # For each index, add the corresponding key-value pair to the dictionary\n",
    "        dict1[keys[i]]=values[i]\n",
    "\n",
    "# Print the new dictionary\n",
    "print(dict1)\n"
   ]
  }
 ],
 "metadata": {
  "language_info": {
   "name": "python"
  }
 },
 "nbformat": 4,
 "nbformat_minor": 2
}
