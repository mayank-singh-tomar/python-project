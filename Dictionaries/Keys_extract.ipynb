{
 "cells": [
  {
   "cell_type": "markdown",
   "metadata": {},
   "source": [
    "Create a new dictionary so that it only has the keys mentioned in another list\n",
    "sample_dict = { “name”: “Kelly”, “age”: 25, “salary”: 8000, “city”: “New york”}\n",
    "# Keys to extract\n",
    "keys = [“name”, “salary”]"
   ]
  },
  {
   "cell_type": "code",
   "execution_count": null,
   "metadata": {},
   "outputs": [],
   "source": [
    "sample_dict = { \"name\": \"Kelly\", \"age\": 25, \"salary\": 8000, \"city\": \"New york\"}\n",
    "\n",
    "# Define a list of keys that we want to extract from the dictionary\n",
    "keys = [\"name\", \"salary\"]\n",
    "\n",
    "# Initialize an empty dictionary to store the extracted key-value pairs\n",
    "dict1={}\n",
    "\n",
    "# Iterate over the items in the original dictionary\n",
    "for k,v in sample_dict.items():\n",
    "    # If the current key is in the list of keys to extract\n",
    "    if k in keys:\n",
    "        # Add the current key-value pair to the new dictionary\n",
    "        dict1[k]=v\n",
    "\n",
    "# Print the new dictionary\n",
    "print(dict1)\n"
   ]
  }
 ],
 "metadata": {
  "language_info": {
   "name": "python"
  }
 },
 "nbformat": 4,
 "nbformat_minor": 2
}
