{
 "cells": [
  {
   "cell_type": "markdown",
   "metadata": {},
   "source": [
    "Create a dictionary to store the total marks of 5 students in the class in 3 subjects (Course1, Course2, Course3). The keys must be the student names, and the values must be the list of marks. Create another list which has the course names in the same order as the marks are stored in the dictionary values. Now write a nested for loop to print the marks for each student exam wise.\n",
    "\n",
    "Student1\n",
    "\n",
    "Course1 marks : 82\n",
    "Course2 marks : 84\n",
    "Course3 marks : 72\n",
    "\n",
    "\n",
    "\n",
    "Student2\n",
    "\n",
    "Course1 marks : 87\n",
    "Course2 marks : 83\n",
    "Course3 marks : 78\n"
   ]
  },
  {
   "cell_type": "code",
   "execution_count": 1,
   "metadata": {},
   "outputs": [
    {
     "name": "stdout",
     "output_type": "stream",
     "text": [
      "{'raju': [85, 78, 89], 'john': [80, 76, 91], 'matilda': [69, 79, 97], 'madie': [20, 56, 89], 'jack': [98, 78, 57]}\n",
      "raju\n",
      "{'mathematics': 85, 'physics': 78, 'chemistry': 89}\n",
      "\n",
      "\n",
      "john\n",
      "{'mathematics': 80, 'physics': 76, 'chemistry': 91}\n",
      "\n",
      "\n",
      "matilda\n",
      "{'mathematics': 69, 'physics': 79, 'chemistry': 97}\n",
      "\n",
      "\n",
      "madie\n",
      "{'mathematics': 20, 'physics': 56, 'chemistry': 89}\n",
      "\n",
      "\n",
      "jack\n",
      "{'mathematics': 98, 'physics': 78, 'chemistry': 57}\n",
      "\n",
      "\n"
     ]
    }
   ],
   "source": [
    "# Initialize an empty dictionary to store the marks\n",
    "dict1={}\n",
    "dict1['raju']=[85,78,89]\n",
    "dict1['john']=[80,76,91]\n",
    "dict1['matilda']=[69,79,97]\n",
    "dict1['madie']=[20,56,89]\n",
    "dict1['jack']=[98,78,57]\n",
    "\n",
    "dict2={}\n",
    "# Print the dictionary of marks\n",
    "print(dict1)\n",
    "# Define a list of course names\n",
    "course_name=['mathematics','physics','chemistry']\n",
    "# Iterate over the items in the dictionary to take key and value\n",
    "for key,value in dict1.items():\n",
    "    # Print the current student's name\n",
    "    print(key)\n",
    "    # Iterate over the range of the length of the course names list\n",
    "    for i in range(len(course_name)):\n",
    "        # Add the current course and mark to the new dictionary\n",
    "        dict2[course_name[i]]=value[i]\n",
    "    print(dict2)\n",
    "    \n",
    "    # Print a newline for readability\n",
    "    print('\\n')\n"
   ]
  }
 ],
 "metadata": {
  "kernelspec": {
   "display_name": "Python 3",
   "language": "python",
   "name": "python3"
  },
  "language_info": {
   "codemirror_mode": {
    "name": "ipython",
    "version": 3
   },
   "file_extension": ".py",
   "mimetype": "text/x-python",
   "name": "python",
   "nbconvert_exporter": "python",
   "pygments_lexer": "ipython3",
   "version": "3.11.4"
  }
 },
 "nbformat": 4,
 "nbformat_minor": 2
}
