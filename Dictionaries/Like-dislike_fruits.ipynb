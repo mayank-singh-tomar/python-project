{
 "cells": [
  {
   "cell_type": "markdown",
   "metadata": {},
   "source": [
    "Create a dictionary whose keys are the names of your family members and friends, and the values are the list of fruits they like to eat. Now if the user gives a fruit as input, the code should print the list of names who like this fruit. Write another code to print the list of people who do not like this fruit. Using this dictionary as input, write a code to make a consolidated list of all the fruit names present in the values of various keys. This list should not have any duplicate entries. Do not use the set() function."
   ]
  },
  {
   "cell_type": "code",
   "execution_count": 1,
   "metadata": {},
   "outputs": [
    {
     "name": "stdout",
     "output_type": "stream",
     "text": [
      "those who like carrot : ['manoj']\n",
      "those who not like carrot : ['uddy', 'annu', 'appie']\n"
     ]
    }
   ],
   "source": [
    "#Create a dictionary\n",
    "dict_fruits={}\n",
    "dict_fruits['uddy']=['mango','papaya','banana','orange']\n",
    "dict_fruits['annu']=['mango','pomengranate','banana','kiwi']\n",
    "dict_fruits['appie']=['apple','papaya','candy','orange']\n",
    "dict_fruits['manoj']=['carrot','papaya','banana','chiku']\n",
    "#Create two empty list for like and dislike\n",
    "lst_like=[]\n",
    "lst_dislike=[]\n",
    "# Take input from user\n",
    "a=input(\"enter fruit name \")\n",
    "# Iterate keys and values of dictionary\n",
    "for key,value in dict_fruits.items():\n",
    "    #check input to append name who like this fruit\n",
    "    if a in value:\n",
    "        lst_like.append(key)\n",
    "    else:\n",
    "        lst_dislike.append(key)\n",
    "# Print both list \n",
    "print('those who like',a,':',lst_like)\n",
    "print('those who not like',a,':',lst_dislike)"
   ]
  },
  {
   "cell_type": "code",
   "execution_count": 2,
   "metadata": {},
   "outputs": [
    {
     "name": "stdout",
     "output_type": "stream",
     "text": [
      "['mango', 'papaya', 'banana', 'orange', 'pomengranate', 'kiwi', 'apple', 'candy', 'carrot', 'chiku']\n"
     ]
    }
   ],
   "source": [
    "#Create an empty list\n",
    "fruit_lst=[]\n",
    "# Iterate all values\n",
    "for value in dict_fruits.values():\n",
    "    # Run loop inside the list of fruit\n",
    "    for fruits in value:\n",
    "        # check that fruit already present or not\n",
    "        if fruits not in fruit_lst:\n",
    "            fruit_lst.append(fruits)\n",
    "print(fruit_lst)"
   ]
  }
 ],
 "metadata": {
  "kernelspec": {
   "display_name": "Python 3",
   "language": "python",
   "name": "python3"
  },
  "language_info": {
   "codemirror_mode": {
    "name": "ipython",
    "version": 3
   },
   "file_extension": ".py",
   "mimetype": "text/x-python",
   "name": "python",
   "nbconvert_exporter": "python",
   "pygments_lexer": "ipython3",
   "version": "3.11.4"
  }
 },
 "nbformat": 4,
 "nbformat_minor": 2
}
