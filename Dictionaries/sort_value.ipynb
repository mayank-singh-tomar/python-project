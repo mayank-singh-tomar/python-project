{
 "cells": [
  {
   "cell_type": "markdown",
   "metadata": {},
   "source": [
    "Create a dictionary of your marks in various subjects and then sort it by its values first in descending order, and then in or ascending order. Do not use any inbuilt sorting functions.\n"
   ]
  },
  {
   "cell_type": "code",
   "execution_count": 1,
   "metadata": {},
   "outputs": [
    {
     "name": "stdout",
     "output_type": "stream",
     "text": [
      "{'mathematics': 56, 'hindi': 98, 'english': 78, 'physics': 86, 'chemistry': 81}\n",
      "ascending order {'mathematics': 56, 'english': 78, 'chemistry': 81, 'physics': 86, 'hindi': 98}\n",
      "descending order {'hindi': 98, 'physics': 86, 'chemistry': 81, 'english': 78, 'mathematics': 56}\n"
     ]
    }
   ],
   "source": [
    "dict_marks={}\n",
    "dict_marks['mathematics']=56\n",
    "dict_marks['hindi']=98\n",
    "dict_marks['english']=78\n",
    "dict_marks['physics']=86\n",
    "dict_marks['chemistry']=81\n",
    "# Print the dictionary of marks\n",
    "print(dict_marks)\n",
    "# Convert the dictionary items to a list\n",
    "mark_list=list(dict_marks.items())\n",
    "# Get the length of the list\n",
    "n=len(mark_list)\n",
    "# Sort the list in ascending order \n",
    "for i in range(n):\n",
    "    for j in range(0,n-i-1):\n",
    "        if mark_list[j][1]>mark_list[j+1][1]:\n",
    "            mark_list[j],mark_list[j+1]=mark_list[j+1],mark_list[j]\n",
    "\n",
    "# Print the sorted list as a dictionary\n",
    "print('ascending order',dict(mark_list))\n",
    "# Sort the list in descending order \n",
    "for i in range(n):\n",
    "    for j in range(0,n-i-1):\n",
    "        if mark_list[j][1]<mark_list[j+1][1]:\n",
    "            mark_list[j],mark_list[j+1]=mark_list[j+1],mark_list[j]\n",
    "\n",
    "# Print the sorted list as a dictionary\n",
    "print('descending order',dict(mark_list))\n"
   ]
  }
 ],
 "metadata": {
  "kernelspec": {
   "display_name": "Python 3",
   "language": "python",
   "name": "python3"
  },
  "language_info": {
   "codemirror_mode": {
    "name": "ipython",
    "version": 3
   },
   "file_extension": ".py",
   "mimetype": "text/x-python",
   "name": "python",
   "nbconvert_exporter": "python",
   "pygments_lexer": "ipython3",
   "version": "3.11.4"
  }
 },
 "nbformat": 4,
 "nbformat_minor": 2
}
