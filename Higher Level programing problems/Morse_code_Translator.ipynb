{
 "cells": [
  {
   "cell_type": "markdown",
   "metadata": {},
   "source": [
    "Create a Morse code translator."
   ]
  },
  {
   "cell_type": "code",
   "execution_count": 1,
   "metadata": {},
   "outputs": [],
   "source": [
    "MORSE_CODE_DICT = {'A':'.-', 'B':'-...',\n",
    "                    'C':'-.-.', 'D':'-..', 'E':'.',\n",
    "                    'F':'..-.', 'G':'--.', 'H':'....',\n",
    "                    'I':'..', 'J':'.---', 'K':'-.-',\n",
    "                    'L':'.-..', 'M':'--', 'N':'-.',\n",
    "                    'O':'---', 'P':'.--.', 'Q':'--.-',\n",
    "                    'R':'.-.', 'S':'...', 'T':'-',\n",
    "                    'U':'..-', 'V':'...-', 'W':'.--',\n",
    "                    'X':'-..-', 'Y':'-.--', 'Z':'--..',\n",
    "                    '1':'.----', '2':'..---', '3':'...--',\n",
    "                    '4':'....-', '5':'.....', '6':'-....',\n",
    "                    '7':'--...', '8':'---..', '9':'----.',\n",
    "                    '0':'-----', ', ':'--..--', '.':'.-.-.-',\n",
    "                    '?':'..--..', '/':'-..-.', '-':'-....-',\n",
    "                    '(':'-.--.', ')':'-.--.-'}\n",
    "\n",
    "# Function to encrypt the string\n",
    "def encrypt(message):\n",
    "    code_word = ''\n",
    "    for letter in message.upper():\n",
    "        if letter != ' ':\n",
    "            # Looks up the dictionary and adds the\n",
    "            # corresponding morse code\n",
    "            code_word += MORSE_CODE_DICT[letter] + ' '\n",
    "        else:\n",
    "            # 1 space indicates different characters\n",
    "            # and 2 indicates different words\n",
    "            code_word += ' '\n",
    "\n",
    "    return code_word\n",
    "\n",
    "# Function to decrypt the string\n",
    "def decrypt(message):\n",
    "    message += ' '\n",
    "    decode = ''\n",
    "    citext = ''\n",
    "    for letter in message.upper():\n",
    "        # checks for space\n",
    "        if (letter != ' '):\n",
    "            # counter to keep track of space\n",
    "            i = 0\n",
    "            # storing morse code of a single character\n",
    "            citext += letter\n",
    "        else:\n",
    "            # in case of space\n",
    "            i += 1\n",
    "            # if i = 2 that indicates a new character\n",
    "            if i == 2 :\n",
    "                # adding space to separate words\n",
    "                decode += ' '\n",
    "            else:\n",
    "                # accessing the keys using their values (reverse of encryption)\n",
    "                decode += list(MORSE_CODE_DICT.keys())[list(MORSE_CODE_DICT.values()).index(citext)]\n",
    "                citext = ''\n",
    "\n",
    "    return decode"
   ]
  },
  {
   "cell_type": "code",
   "execution_count": 2,
   "metadata": {},
   "outputs": [
    {
     "data": {
      "text/plain": [
       "'-- .- -.-- .- -. -.- '"
      ]
     },
     "execution_count": 2,
     "metadata": {},
     "output_type": "execute_result"
    }
   ],
   "source": [
    "encrypt(\"MAYANK\")"
   ]
  },
  {
   "cell_type": "code",
   "execution_count": 3,
   "metadata": {},
   "outputs": [
    {
     "data": {
      "text/plain": [
       "'MAYANK SINGH TOMAR'"
      ]
     },
     "execution_count": 3,
     "metadata": {},
     "output_type": "execute_result"
    }
   ],
   "source": [
    "decrypt('-- .- -.-- .- -. -.-  ... .. -. --. ....  - --- -- .- .-.')"
   ]
  },
  {
   "cell_type": "code",
   "execution_count": null,
   "metadata": {},
   "outputs": [],
   "source": []
  }
 ],
 "metadata": {
  "kernelspec": {
   "display_name": "Python 3",
   "language": "python",
   "name": "python3"
  },
  "language_info": {
   "codemirror_mode": {
    "name": "ipython",
    "version": 3
   },
   "file_extension": ".py",
   "mimetype": "text/x-python",
   "name": "python",
   "nbconvert_exporter": "python",
   "pygments_lexer": "ipython3",
   "version": "3.11.4"
  }
 },
 "nbformat": 4,
 "nbformat_minor": 2
}
