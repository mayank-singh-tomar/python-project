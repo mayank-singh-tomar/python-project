{
 "cells": [
  {
   "cell_type": "markdown",
   "metadata": {},
   "source": [
    "Given a list of numbers, find out the median and mode."
   ]
  },
  {
   "cell_type": "code",
   "execution_count": 11,
   "metadata": {},
   "outputs": [
    {
     "name": "stdout",
     "output_type": "stream",
     "text": [
      "ascending order [-7, -6, -2, 2, 2, 2, 3, 3, 3, 4.5, 5, 6, 6, 8]\n",
      "meadian of list= 3.0\n",
      "mode of the list1= [2, 3]\n"
     ]
    }
   ],
   "source": [
    "lst=[2,5,6,8,3,6,3,2,3,2,-2,-7,4.5,-6]\n",
    "# Arrange the list in ascending order\n",
    "for i in range(len(lst)):\n",
    "    for j in range(i+1,len(lst)):\n",
    "        if lst[i]>lst[j]:\n",
    "            be_num=lst[i]\n",
    "            lst[i]=lst[j]\n",
    "            lst[j]=be_num\n",
    "print('ascending order',lst)\n",
    "#--- Now calculate the meadian\n",
    "a=len(lst)\n",
    "if a%2==0: \n",
    "    # If length is even then median will be sum of middle two number divide by two\n",
    "    median=(lst[int(a/2)]/2+lst[int((a-1)/2)]/2) \n",
    "else:  \n",
    "    # If lenth is odd then median will be middle number of list\n",
    "    median=(lst[int(a/2)])\n",
    "print(\"meadian of list=\", median)\n",
    "\n",
    "#--Here we find mode\n",
    "dict1={}\n",
    "for i in lst:\n",
    "    count1=0\n",
    "    for j in lst:\n",
    "        if i==j:\n",
    "            count1+=1\n",
    "    dict1[i]=count1\n",
    "# Now we find the mode means which number is occur most time in list\n",
    "max_val=0\n",
    "for i in dict1.values():\n",
    "     # It iterate the value of dictionary\n",
    "    if max_val<i:\n",
    "       max_val=i \n",
    "       # Here it will store the maximum value\n",
    "mode1=[] \n",
    "# Here we take empty list to store the mode\n",
    "for key,value in dict1.items():\n",
    "     # It iterate the both key value of dictonary\n",
    "    if value==max_val:\n",
    "        mode1.append(key) \n",
    "print(\"mode of the list1=\",mode1)\n",
    "    \n"
   ]
  },
  {
   "cell_type": "code",
   "execution_count": null,
   "metadata": {},
   "outputs": [],
   "source": []
  }
 ],
 "metadata": {
  "kernelspec": {
   "display_name": "Python 3",
   "language": "python",
   "name": "python3"
  },
  "language_info": {
   "codemirror_mode": {
    "name": "ipython",
    "version": 3
   },
   "file_extension": ".py",
   "mimetype": "text/x-python",
   "name": "python",
   "nbconvert_exporter": "python",
   "pygments_lexer": "ipython3",
   "version": "3.11.4"
  }
 },
 "nbformat": 4,
 "nbformat_minor": 2
}
