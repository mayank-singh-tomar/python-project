{
 "cells": [
  {
   "cell_type": "markdown",
   "metadata": {},
   "source": [
    "Given a temperature in Celsius, convert it to Fahrenheit using the formula F = (C * 1.8) + 32. If the temperature is above 90°F, print “It’s hot outside!” otherwise, print “The temperature is pleasant”."
   ]
  },
  {
   "cell_type": "code",
   "execution_count": null,
   "metadata": {},
   "outputs": [],
   "source": [
    "c=float(input(\"enter the temp in celsius\"))\n",
    "# convert celsius into farenheit\n",
    "f=(c*1.8)+32\n",
    "if f>90:\n",
    "    # check if temp is more than 90\n",
    "    print(\"it is hot outside\")\n",
    "else:\n",
    "    print(\"the temp is pleasant\")"
   ]
  }
 ],
 "metadata": {
  "language_info": {
   "name": "python"
  }
 },
 "nbformat": 4,
 "nbformat_minor": 2
}
