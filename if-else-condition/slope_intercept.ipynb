{
 "cells": [
  {
   "cell_type": "markdown",
   "metadata": {},
   "source": [
    "Given two points (x1, y1) and (x2, y2), find the slope and intercept of the line joining these two points (the line may be perfectly horizontal or vertical)."
   ]
  },
  {
   "cell_type": "code",
   "execution_count": 1,
   "metadata": {},
   "outputs": [
    {
     "name": "stdout",
     "output_type": "stream",
     "text": [
      "slope is -1.0\n",
      "y-intercet is 6.0\n"
     ]
    }
   ],
   "source": [
    "# take coordinates of two points\n",
    "x1=float(input(\"enter x coordinate of first point\"))\n",
    "x2=float(input(\"enter x coordinate of second point\"))\n",
    "y1=float(input(\"enter y coordinate of first point\"))\n",
    "y2=float(input(\"enter y coordinate of second point\"))\n",
    "if (x2-x1)==0:\n",
    "    # check if divisor is zero it is not defined\n",
    "    print(\"it is not defined\")\n",
    "else:\n",
    "    m=(y2-y1)/(x2-x1)\n",
    "    # formula of slope\n",
    "    c=y1-(m*x1)\n",
    "    # intercept formula \n",
    "    print(\"slope is\",m)\n",
    "    print(\"y-intercet is\",c)\n"
   ]
  }
 ],
 "metadata": {
  "kernelspec": {
   "display_name": "Python 3",
   "language": "python",
   "name": "python3"
  },
  "language_info": {
   "codemirror_mode": {
    "name": "ipython",
    "version": 3
   },
   "file_extension": ".py",
   "mimetype": "text/x-python",
   "name": "python",
   "nbconvert_exporter": "python",
   "pygments_lexer": "ipython3",
   "version": "3.11.4"
  }
 },
 "nbformat": 4,
 "nbformat_minor": 2
}
