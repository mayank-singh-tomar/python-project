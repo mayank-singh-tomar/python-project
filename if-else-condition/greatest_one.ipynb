{
 "cells": [
  {
   "cell_type": "markdown",
   "metadata": {},
   "source": [
    "Which one is greater in two numbers"
   ]
  },
  {
   "cell_type": "code",
   "execution_count": 1,
   "metadata": {},
   "outputs": [
    {
     "name": "stdout",
     "output_type": "stream",
     "text": [
      "9.0 is greatest\n"
     ]
    }
   ],
   "source": [
    "# there is any number as input \n",
    "num1=float(input(\"enter first no.\"))\n",
    "num2=float(input(\"enter second no.\"))\n",
    "if num1>num2:\n",
    "    # check if num1 is greatest\n",
    "    print(num1,\"is greatest\")\n",
    "elif num1==num2:\n",
    "    # may be they equal\n",
    "    print(\"both are equal\")\n",
    "else:\n",
    "    print(num2,\"is greatest\")"
   ]
  },
  {
   "cell_type": "code",
   "execution_count": null,
   "metadata": {},
   "outputs": [],
   "source": []
  }
 ],
 "metadata": {
  "kernelspec": {
   "display_name": "Python 3",
   "language": "python",
   "name": "python3"
  },
  "language_info": {
   "codemirror_mode": {
    "name": "ipython",
    "version": 3
   },
   "file_extension": ".py",
   "mimetype": "text/x-python",
   "name": "python",
   "nbconvert_exporter": "python",
   "pygments_lexer": "ipython3",
   "version": "3.11.4"
  }
 },
 "nbformat": 4,
 "nbformat_minor": 2
}
