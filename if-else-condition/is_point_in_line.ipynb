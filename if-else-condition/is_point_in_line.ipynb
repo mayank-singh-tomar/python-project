{
 "cells": [
  {
   "cell_type": "markdown",
   "metadata": {},
   "source": [
    "Given three points, find out whether they lie on the same straight line or not."
   ]
  },
  {
   "cell_type": "code",
   "execution_count": 1,
   "metadata": {},
   "outputs": [
    {
     "name": "stdout",
     "output_type": "stream",
     "text": [
      "point not lie in straight line\n"
     ]
    }
   ],
   "source": [
    "# Take coordinates of three points\n",
    "x1=float(input(\"enter x coordinate of first point\"))\n",
    "y1=float(input(\"enter y coordinate of first point\"))\n",
    "x2=float(input(\"enter x coordinate of second point\"))\n",
    "y2=float(input(\"enter y coordinate of second point\"))\n",
    "x3=float(input(\"enter x coordinate of third point\"))\n",
    "y3=float(input(\"enter y coordinate of third point\"))\n",
    "# by using formula of area of triangle\n",
    "area=(x1*(y2-y3)+x2*(y3-y1)+x3*(y1-y2))\n",
    "if area==0:\n",
    "    # if area of triangle is zero than points become collinear\n",
    "    print(\"three point lie in straight line\")\n",
    "else:\n",
    "    print(\"point not lie in straight line\")"
   ]
  }
 ],
 "metadata": {
  "kernelspec": {
   "display_name": "Python 3",
   "language": "python",
   "name": "python3"
  },
  "language_info": {
   "codemirror_mode": {
    "name": "ipython",
    "version": 3
   },
   "file_extension": ".py",
   "mimetype": "text/x-python",
   "name": "python",
   "nbconvert_exporter": "python",
   "pygments_lexer": "ipython3",
   "version": "3.11.4"
  }
 },
 "nbformat": 4,
 "nbformat_minor": 2
}
