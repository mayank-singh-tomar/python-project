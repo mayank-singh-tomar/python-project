{
 "cells": [
  {
   "cell_type": "markdown",
   "metadata": {},
   "source": [
    "Given an integer, check if it is even or odd."
   ]
  },
  {
   "cell_type": "code",
   "execution_count": 1,
   "metadata": {},
   "outputs": [
    {
     "name": "stdout",
     "output_type": "stream",
     "text": [
      "9 is an odd no.\n"
     ]
    }
   ],
   "source": [
    "num=int(input(\"enter a no.\"))\n",
    "if num<0:\n",
    "    #for checking input is negative or not\n",
    "    print(\"neither even nor odd\")\n",
    "elif num%2==0:\n",
    "    #every even no. is divisible by 2.\n",
    "    print(num,\"is an even no.\")\n",
    "else:\n",
    "    print(num,\"is an odd no.\")\n"
   ]
  }
 ],
 "metadata": {
  "kernelspec": {
   "display_name": "Python 3",
   "language": "python",
   "name": "python3"
  },
  "language_info": {
   "codemirror_mode": {
    "name": "ipython",
    "version": 3
   },
   "file_extension": ".py",
   "mimetype": "text/x-python",
   "name": "python",
   "nbconvert_exporter": "python",
   "pygments_lexer": "ipython3",
   "version": "3.11.4"
  }
 },
 "nbformat": 4,
 "nbformat_minor": 2
}
