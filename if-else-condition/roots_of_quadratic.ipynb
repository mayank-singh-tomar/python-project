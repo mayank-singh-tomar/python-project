{
 "cells": [
  {
   "cell_type": "markdown",
   "metadata": {},
   "source": [
    "Given a quadratic equation with coefficients a, b and c, find the two solutions (may be real or complex). You should not take the square root of a negative number in your code."
   ]
  },
  {
   "cell_type": "code",
   "execution_count": 1,
   "metadata": {},
   "outputs": [
    {
     "name": "stdout",
     "output_type": "stream",
     "text": [
      "roots are imaginery (-13.5, '-d/2*a') (-13.5, '+d/2*a')\n"
     ]
    }
   ],
   "source": [
    "# Take coefficient of ax^2+bx+c equation\n",
    "a=int(input(\"enter first coeff.\"))\n",
    "b=int(input(\"enter second coeff.\"))\n",
    "c=int(input(\"enter third coeff.\"))\n",
    "# find discrimiant as d\n",
    "d=b**2-4*a*c\n",
    "if d>0:\n",
    "    # for two real roots\n",
    "    root1=(-b-(d**0.5))/2*a\n",
    "    root2=(-b+(d**0.5))/2*a\n",
    "    print('the roots are',root1,root2)\n",
    "elif d==0:\n",
    "    # if real and equal roots\n",
    "    root=-b/2*a\n",
    "    print(root)\n",
    "else:\n",
    "    # if roots are imaginery\n",
    "    root1=((-b/2*a),\"-d/2*a\")\n",
    "    root2=((-b/2*a),\"+d/2*a\")\n",
    "    print('roots are imaginery',root1,root2)\n"
   ]
  },
  {
   "cell_type": "code",
   "execution_count": null,
   "metadata": {},
   "outputs": [],
   "source": []
  }
 ],
 "metadata": {
  "kernelspec": {
   "display_name": "Python 3",
   "language": "python",
   "name": "python3"
  },
  "language_info": {
   "codemirror_mode": {
    "name": "ipython",
    "version": 3
   },
   "file_extension": ".py",
   "mimetype": "text/x-python",
   "name": "python",
   "nbconvert_exporter": "python",
   "pygments_lexer": "ipython3",
   "version": "3.11.4"
  }
 },
 "nbformat": 4,
 "nbformat_minor": 2
}
