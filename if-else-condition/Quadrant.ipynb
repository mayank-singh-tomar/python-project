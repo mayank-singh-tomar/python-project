{
 "cells": [
  {
   "cell_type": "markdown",
   "metadata": {},
   "source": [
    "Given a point (x1, y1), find the quadrant in which this point lies."
   ]
  },
  {
   "cell_type": "code",
   "execution_count": 1,
   "metadata": {},
   "outputs": [
    {
     "name": "stdout",
     "output_type": "stream",
     "text": [
      "point lie in  first quadrant\n"
     ]
    }
   ],
   "source": [
    "x1=float(input(\"enter x coordinate\"))\n",
    "y1=float(input(\"enter y coordinate\"))\n",
    "if x1>0 and y1>0:\n",
    "    # check coordinate for first quadrant\n",
    "    print(\"point lie in  first quadrant\")\n",
    "elif x1>0 and y1<0:\n",
    "    # for 4th quadrant\n",
    "    print(\"point lie in fourth quadrant\")\n",
    "elif x1<0 and y1>0:\n",
    "    # for 2nd quadrant\n",
    "    print(\"point lie in second quadrant\")\n",
    "elif x1<0 and y1<0:\n",
    "    # for 3rd quadrant\n",
    "    print(\"point lie in third column\")\n",
    "elif x1==0 and y1!=0:\n",
    "    # if point on y axis\n",
    "    print(\"point lie in y axis\")\n",
    "elif y1==0 and x1!=0:\n",
    "    #if point in x axis\n",
    "    print(\"point lie in x axis\")\n",
    "else:\n",
    "    print(\"point is in origin\")\n"
   ]
  },
  {
   "cell_type": "code",
   "execution_count": null,
   "metadata": {},
   "outputs": [],
   "source": []
  }
 ],
 "metadata": {
  "kernelspec": {
   "display_name": "Python 3",
   "language": "python",
   "name": "python3"
  },
  "language_info": {
   "codemirror_mode": {
    "name": "ipython",
    "version": 3
   },
   "file_extension": ".py",
   "mimetype": "text/x-python",
   "name": "python",
   "nbconvert_exporter": "python",
   "pygments_lexer": "ipython3",
   "version": "3.11.4"
  }
 },
 "nbformat": 4,
 "nbformat_minor": 2
}
