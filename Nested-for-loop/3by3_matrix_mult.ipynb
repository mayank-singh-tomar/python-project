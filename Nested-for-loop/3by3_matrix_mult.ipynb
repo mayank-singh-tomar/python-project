{
 "cells": [
  {
   "cell_type": "markdown",
   "metadata": {},
   "source": [
    "Given two 3x3 matrices with values stored in two lists of length 9, find their p\n"
   ]
  },
  {
   "cell_type": "code",
   "execution_count": 2,
   "metadata": {},
   "outputs": [
    {
     "name": "stdout",
     "output_type": "stream",
     "text": [
      "[35, 39, 43]\n",
      "[57, 63, 69]\n",
      "[90, 99, 108]\n"
     ]
    }
   ],
   "source": [
    "# Define the first matrix 'a'\n",
    "a=[[2,3,4],\n",
    "   [4,5,6],\n",
    "   [7,8,9]]\n",
    "\n",
    "# Define the second matrix 'b'\n",
    "b=[[2,2,2],\n",
    "   [5,5,5],\n",
    "   [4,5,6]]\n",
    "\n",
    "# Initialize an empty list 'p' to store the result of the matrix multiplication\n",
    "p=[]\n",
    "\n",
    "# Loop over the rows of the first matrix\n",
    "for i in range(3):\n",
    "    # Initialize an empty list 'row' to store the result of the current row multiplication\n",
    "    row=[]\n",
    "    \n",
    "    # Loop over the columns of the second matrix\n",
    "    for j in range(3):\n",
    "        # Initialize a variable 'x' to store the sum of the products\n",
    "        x=0\n",
    "        \n",
    "        # Loop over the elements of the current row of the first matrix and the current column of the second matrix\n",
    "        for k in range(3):\n",
    "            # Multiply the corresponding elements and add the product to 'x'\n",
    "            x=x+a[i][k]*b[k][j]\n",
    "        \n",
    "        # Append the result 'x' to the 'row' list\n",
    "        row.append(x)\n",
    "    \n",
    "    # Append the 'row' list to the 'p' list\n",
    "    p.append(row)\n",
    "\n",
    "# Print each row of the resulting matrix 'p'\n",
    "for r in p:\n",
    "    print(r)"
   ]
  },
  {
   "cell_type": "code",
   "execution_count": null,
   "metadata": {},
   "outputs": [],
   "source": []
  }
 ],
 "metadata": {
  "kernelspec": {
   "display_name": "Python 3",
   "language": "python",
   "name": "python3"
  },
  "language_info": {
   "codemirror_mode": {
    "name": "ipython",
    "version": 3
   },
   "file_extension": ".py",
   "mimetype": "text/x-python",
   "name": "python",
   "nbconvert_exporter": "python",
   "pygments_lexer": "ipython3",
   "version": "3.11.4"
  }
 },
 "nbformat": 4,
 "nbformat_minor": 2
}
