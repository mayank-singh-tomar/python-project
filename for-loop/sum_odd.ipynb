{
 "cells": [
  {
   "cell_type": "markdown",
   "metadata": {},
   "source": [
    "Given a positive integer, find out the sum of all odd numbers from 1 up to this number."
   ]
  },
  {
   "cell_type": "code",
   "execution_count": null,
   "metadata": {},
   "outputs": [],
   "source": [
    "num=int(input(\"enter an positive integer:\"))\n",
    "# Take a variable to store sum\n",
    "add=0\n",
    "# Check if no. is negative or not\n",
    "if num<0:\n",
    "    print(\"please enter positve no.\")\n",
    "else:\n",
    "    # Run loop by the gap of 2 so every odd no. get cover.\n",
    "    for i in range(1,num+1,2):\n",
    "        # add one by one\n",
    "        add=add+i\n",
    "    print(\"the sum of all odd integer upto\",num,\"is\",add)"
   ]
  }
 ],
 "metadata": {
  "language_info": {
   "name": "python"
  }
 },
 "nbformat": 4,
 "nbformat_minor": 2
}
