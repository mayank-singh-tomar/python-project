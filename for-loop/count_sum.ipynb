{
 "cells": [
  {
   "cell_type": "markdown",
   "metadata": {},
   "source": [
    "Given a positive integer, find out the sum of all integers from 1 up to this number."
   ]
  },
  {
   "cell_type": "code",
   "execution_count": 7,
   "metadata": {},
   "outputs": [
    {
     "name": "stdout",
     "output_type": "stream",
     "text": [
      "The sum of integer upto  11 is 66\n"
     ]
    }
   ],
   "source": [
    "a=int(input(\"enter an integer\"))\n",
    "# Take a variable to store the value\n",
    "add=0\n",
    "# A for loop that runs from 1 to entered no.\n",
    "for i in range(1,a+1):\n",
    "    # add all values\n",
    "    add=add+i\n",
    "print(\"The sum of integer upto \",a,\"is\",add)\n"
   ]
  },
  {
   "cell_type": "code",
   "execution_count": null,
   "metadata": {},
   "outputs": [],
   "source": []
  }
 ],
 "metadata": {
  "kernelspec": {
   "display_name": "Python 3",
   "language": "python",
   "name": "python3"
  },
  "language_info": {
   "codemirror_mode": {
    "name": "ipython",
    "version": 3
   },
   "file_extension": ".py",
   "mimetype": "text/x-python",
   "name": "python",
   "nbconvert_exporter": "python",
   "pygments_lexer": "ipython3",
   "version": "3.11.4"
  }
 },
 "nbformat": 4,
 "nbformat_minor": 2
}
