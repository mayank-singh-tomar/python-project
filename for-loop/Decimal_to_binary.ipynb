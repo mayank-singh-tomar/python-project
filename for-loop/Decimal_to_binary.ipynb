{
 "cells": [
  {
   "cell_type": "markdown",
   "metadata": {},
   "source": [
    "Given a positive integer, convert it into binary "
   ]
  },
  {
   "cell_type": "code",
   "execution_count": 1,
   "metadata": {},
   "outputs": [
    {
     "name": "stdout",
     "output_type": "stream",
     "text": [
      "101101\n"
     ]
    }
   ],
   "source": [
    "num=int(input(\"enter a positive integer\"))\n",
    "# Take a empty string\n",
    "binary=\"\"\n",
    "# Run loop until the value become 0. \n",
    "while num>0:\n",
    "    # Add binary(string) in last so that order of oitput is right\n",
    "    binary= str(num%2)+ binary\n",
    "    num=num//2\n",
    "\n",
    "print(binary)"
   ]
  }
 ],
 "metadata": {
  "kernelspec": {
   "display_name": "Python 3",
   "language": "python",
   "name": "python3"
  },
  "language_info": {
   "codemirror_mode": {
    "name": "ipython",
    "version": 3
   },
   "file_extension": ".py",
   "mimetype": "text/x-python",
   "name": "python",
   "nbconvert_exporter": "python",
   "pygments_lexer": "ipython3",
   "version": "3.11.4"
  }
 },
 "nbformat": 4,
 "nbformat_minor": 2
}
