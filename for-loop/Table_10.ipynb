{
 "cells": [
  {
   "cell_type": "markdown",
   "metadata": {},
   "source": [
    "Given a positive integer, find the multiplication table of that integer up to 10."
   ]
  },
  {
   "cell_type": "code",
   "execution_count": null,
   "metadata": {},
   "outputs": [],
   "source": [
    "num=int(input(\"enter an integer:\"))\n",
    "if num>0:\n",
    "    # Run loop upto 10\n",
    "    for i in range(1,10+1):\n",
    "        # Multiply by i one by one\n",
    "        mult=(num*i)\n",
    "        # Write print inside the loop so every multiply could display\n",
    "        print(mult)\n",
    "else:\n",
    "    print(\"please enter positive integer\")"
   ]
  }
 ],
 "metadata": {
  "language_info": {
   "name": "python"
  }
 },
 "nbformat": 4,
 "nbformat_minor": 2
}
