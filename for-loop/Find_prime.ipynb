{
 "cells": [
  {
   "cell_type": "markdown",
   "metadata": {},
   "source": [
    "Given a positive integer, find out if it’s prime or not."
   ]
  },
  {
   "cell_type": "code",
   "execution_count": null,
   "metadata": {},
   "outputs": [],
   "source": [
    "num=int(input(\"enter a integer\"))\n",
    "# Take a variable to count no. of division\n",
    "count=0\n",
    "# Factors of any no. not different after its square root value\n",
    "for i in range(2,int(num**0.5)+1):\n",
    "    # divide to check it is divisible or not\n",
    "    if num%i==0:\n",
    "        count+=1\n",
    "# If any no. is divisible then its not prime no.\n",
    "if count>0:\n",
    "    print(num,\" is not a prime no.\")\n",
    "else:\n",
    "    print(num,\" is a prime no.\")\n",
    "    "
   ]
  }
 ],
 "metadata": {
  "language_info": {
   "name": "python"
  }
 },
 "nbformat": 4,
 "nbformat_minor": 2
}
