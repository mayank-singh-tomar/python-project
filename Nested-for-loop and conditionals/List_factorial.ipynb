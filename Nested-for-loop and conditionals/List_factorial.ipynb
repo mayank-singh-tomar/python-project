{
 "cells": [
  {
   "cell_type": "markdown",
   "metadata": {},
   "source": [
    "Given a list of positive integers, find the factorial of all the numbers."
   ]
  },
  {
   "cell_type": "code",
   "execution_count": 2,
   "metadata": {},
   "outputs": [
    {
     "name": "stdout",
     "output_type": "stream",
     "text": [
      "the factorial of 0 is 1\n",
      "the factorial of 1 is 1\n",
      "the factorial of 4 is 24\n",
      "the factorial of 6 is 720\n",
      "the factorial of 2 is 2\n",
      "the factorial of 3 is 6\n",
      "the factorial of 9 is 362880\n"
     ]
    }
   ],
   "source": [
    "#we give the list as input\n",
    "lst=[0,1,4,6,2,3,9]\n",
    "for i in lst:\n",
    "    prod=1\n",
    "    for x in range(2,i+1):\n",
    "        prod*=x\n",
    "    print(\"the factorial of\",i,\"is\",prod)"
   ]
  },
  {
   "cell_type": "code",
   "execution_count": 5,
   "metadata": {},
   "outputs": [],
   "source": [
    "def fact(lst):\n",
    "    lst_fact=[]\n",
    "    for i in lst:\n",
    "        prod=1\n",
    "        for x in range(2,i+1):\n",
    "            prod*=x\n",
    "        lst_fact.append(prod)\n",
    "    return lst_fact\n"
   ]
  },
  {
   "cell_type": "code",
   "execution_count": 6,
   "metadata": {},
   "outputs": [
    {
     "data": {
      "text/plain": [
       "[1, 1, 24, 720, 2, 6, 362880]"
      ]
     },
     "execution_count": 6,
     "metadata": {},
     "output_type": "execute_result"
    }
   ],
   "source": [
    "fact([0,1,4,6,2,3,9])"
   ]
  },
  {
   "cell_type": "code",
   "execution_count": null,
   "metadata": {},
   "outputs": [],
   "source": []
  }
 ],
 "metadata": {
  "kernelspec": {
   "display_name": "Python 3",
   "language": "python",
   "name": "python3"
  },
  "language_info": {
   "codemirror_mode": {
    "name": "ipython",
    "version": 3
   },
   "file_extension": ".py",
   "mimetype": "text/x-python",
   "name": "python",
   "nbconvert_exporter": "python",
   "pygments_lexer": "ipython3",
   "version": "3.11.4"
  }
 },
 "nbformat": 4,
 "nbformat_minor": 2
}
