{
 "cells": [
  {
   "cell_type": "markdown",
   "metadata": {},
   "source": [
    "Given a list of numbers, find out how many times each number occurs in the list."
   ]
  },
  {
   "cell_type": "code",
   "execution_count": 1,
   "metadata": {},
   "outputs": [
    {
     "name": "stdout",
     "output_type": "stream",
     "text": [
      "The 4 comes 3 times\n",
      "The 8 comes 2 times\n",
      "The 2 comes 3 times\n",
      "The 1 comes 2 times\n"
     ]
    }
   ],
   "source": [
    "lst1 = [4, 8, 4, 2, 1, 2 ,8, 2, 4,1]\n",
    "# Create a empty list \n",
    "lst2 = [] \n",
    "#Run a loop to iterate all value\n",
    "for i in lst1:\n",
    "    count = 0\n",
    "    # check element in new list \n",
    "    if i not in lst2:\n",
    "        for x in lst1:\n",
    "            if i == x:\n",
    "                count = count+1\n",
    "        lst2.append(i)\n",
    "        print ('The',i,'comes',count,'times')"
   ]
  },
  {
   "cell_type": "code",
   "execution_count": null,
   "metadata": {},
   "outputs": [],
   "source": []
  }
 ],
 "metadata": {
  "kernelspec": {
   "display_name": "Python 3",
   "language": "python",
   "name": "python3"
  },
  "language_info": {
   "codemirror_mode": {
    "name": "ipython",
    "version": 3
   },
   "file_extension": ".py",
   "mimetype": "text/x-python",
   "name": "python",
   "nbconvert_exporter": "python",
   "pygments_lexer": "ipython3",
   "version": "3.11.4"
  }
 },
 "nbformat": 4,
 "nbformat_minor": 2
}
