{
 "cells": [
  {
   "cell_type": "markdown",
   "metadata": {},
   "source": [
    "Given a positive integers, find out the sum of all prime numbers from 1 up to this number."
   ]
  },
  {
   "cell_type": "code",
   "execution_count": 1,
   "metadata": {},
   "outputs": [
    {
     "name": "stdout",
     "output_type": "stream",
     "text": [
      "the sum of all prime no. upto 9 is 17\n"
     ]
    }
   ],
   "source": [
    "a=int(input('enter a no.'))\n",
    "#Take a variable to store sum\n",
    "add=0\n",
    "#Run a loop from 2 to given value\n",
    "for i in range(2,a+1):\n",
    "    count=0\n",
    "    for j in range(2,int(i**0.5)+1):\n",
    "        if i%j==0:\n",
    "            # value is fully divided than count increase by 1\n",
    "            count+=1\n",
    "    if count==0:\n",
    "        #add all prime no.\n",
    "        add+=i\n",
    "print('the sum of all prime no. upto',a,'is',add)\n",
    "        \n",
    "\n"
   ]
  }
 ],
 "metadata": {
  "kernelspec": {
   "display_name": "Python 3",
   "language": "python",
   "name": "python3"
  },
  "language_info": {
   "codemirror_mode": {
    "name": "ipython",
    "version": 3
   },
   "file_extension": ".py",
   "mimetype": "text/x-python",
   "name": "python",
   "nbconvert_exporter": "python",
   "pygments_lexer": "ipython3",
   "version": "3.11.4"
  }
 },
 "nbformat": 4,
 "nbformat_minor": 2
}
