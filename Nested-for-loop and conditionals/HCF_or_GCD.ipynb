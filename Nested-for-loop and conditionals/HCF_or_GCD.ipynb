{
 "cells": [
  {
   "cell_type": "markdown",
   "metadata": {},
   "source": [
    "Given two numbers, find its Greatest Common Divisor (Divisor)."
   ]
  },
  {
   "cell_type": "code",
   "execution_count": 1,
   "metadata": {},
   "outputs": [
    {
     "name": "stdout",
     "output_type": "stream",
     "text": [
      "3\n"
     ]
    }
   ],
   "source": [
    "num1=int(input(\"enter first no.\"))\n",
    "num2=int(input(\"enter second no.\"))\n",
    "if num1>num2:\n",
    "    for i in range(1,num2+1):\n",
    "        if num1%i==0 and num2%i==0:\n",
    "            hcf=i\n",
    "else:\n",
    "    for i in range(1,num1+1):\n",
    "        if num1%i==0 and num2%i==0:\n",
    "            hcf=i\n",
    "print(hcf)"
   ]
  }
 ],
 "metadata": {
  "kernelspec": {
   "display_name": "Python 3",
   "language": "python",
   "name": "python3"
  },
  "language_info": {
   "codemirror_mode": {
    "name": "ipython",
    "version": 3
   },
   "file_extension": ".py",
   "mimetype": "text/x-python",
   "name": "python",
   "nbconvert_exporter": "python",
   "pygments_lexer": "ipython3",
   "version": "3.11.4"
  }
 },
 "nbformat": 4,
 "nbformat_minor": 2
}
