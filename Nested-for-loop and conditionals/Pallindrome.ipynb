{
 "cells": [
  {
   "cell_type": "markdown",
   "metadata": {},
   "source": [
    "Given a string input, find out if it’s a palindrome."
   ]
  },
  {
   "cell_type": "code",
   "execution_count": 1,
   "metadata": {},
   "outputs": [
    {
     "name": "stdout",
     "output_type": "stream",
     "text": [
      "it is pallindrome\n"
     ]
    }
   ],
   "source": [
    "str1='jahhaaahhaj'\n",
    "# Take an empty string \n",
    "str1_rev=''\n",
    "# Run a loop iterate string\n",
    "for i in str1:\n",
    "    #add str1_rev in last so it reverse the string and store in new string\n",
    "    str1_rev=i+str1_rev\n",
    "    #if reverse string is same as original string than it is pallindrome\n",
    "if str1==str1_rev:\n",
    "    print('it is pallindrome')\n",
    "else:\n",
    "    print('it is not a pallindrome')"
   ]
  }
 ],
 "metadata": {
  "kernelspec": {
   "display_name": "Python 3",
   "language": "python",
   "name": "python3"
  },
  "language_info": {
   "codemirror_mode": {
    "name": "ipython",
    "version": 3
   },
   "file_extension": ".py",
   "mimetype": "text/x-python",
   "name": "python",
   "nbconvert_exporter": "python",
   "pygments_lexer": "ipython3",
   "version": "3.11.4"
  }
 },
 "nbformat": 4,
 "nbformat_minor": 2
}
