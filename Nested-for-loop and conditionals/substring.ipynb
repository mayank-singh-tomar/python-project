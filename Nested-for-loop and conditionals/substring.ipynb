{
 "cells": [
  {
   "cell_type": "markdown",
   "metadata": {},
   "source": [
    "Given a string input, find out if it contains a particular substring.\n"
   ]
  },
  {
   "cell_type": "code",
   "execution_count": null,
   "metadata": {},
   "outputs": [],
   "source": [
    "str1='To learn python you have to improve your math    '\n",
    "#Take string from user to check\n",
    "str2=input('enter the substring')\n",
    "#We use strip so we can remove end and starting space\n",
    "new_str=str1.strip()\n",
    "#Run loop in string and check in input string \n",
    "for i in str2:\n",
    "    if i in new_str:\n",
    "        print('Yes it is present')\n",
    "    else:\n",
    "        print('No it is not present')\n"
   ]
  }
 ],
 "metadata": {
  "language_info": {
   "name": "python"
  }
 },
 "nbformat": 4,
 "nbformat_minor": 2
}
