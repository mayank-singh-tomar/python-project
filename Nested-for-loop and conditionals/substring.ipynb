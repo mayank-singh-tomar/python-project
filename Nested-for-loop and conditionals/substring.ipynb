{
 "cells": [
  {
   "cell_type": "markdown",
   "metadata": {},
   "source": [
    "Given a string input, find out if it contains a particular substring.\n"
   ]
  },
  {
   "cell_type": "code",
   "execution_count": 3,
   "metadata": {},
   "outputs": [
    {
     "name": "stdout",
     "output_type": "stream",
     "text": [
      "python : Yes it is present\n"
     ]
    }
   ],
   "source": [
    "str1='To learn python you have to improve your math    '\n",
    "#Take string from user to check\n",
    "str2=input('enter the substring')\n",
    "#We use strip so we can remove end and starting space\n",
    "new_str=str1.strip()\n",
    "new_str1=str2.strip()\n",
    "#check it is present or not\n",
    "if new_str1 in new_str:\n",
    "    print(new_str1,': Yes it is present')\n",
    "else:\n",
    "    print(new_str1,': No it is not present')\n",
    "\n"
   ]
  },
  {
   "cell_type": "code",
   "execution_count": null,
   "metadata": {},
   "outputs": [],
   "source": []
  }
 ],
 "metadata": {
  "kernelspec": {
   "display_name": "Python 3",
   "language": "python",
   "name": "python3"
  },
  "language_info": {
   "codemirror_mode": {
    "name": "ipython",
    "version": 3
   },
   "file_extension": ".py",
   "mimetype": "text/x-python",
   "name": "python",
   "nbconvert_exporter": "python",
   "pygments_lexer": "ipython3",
   "version": "3.11.4"
  }
 },
 "nbformat": 4,
 "nbformat_minor": 2
}
