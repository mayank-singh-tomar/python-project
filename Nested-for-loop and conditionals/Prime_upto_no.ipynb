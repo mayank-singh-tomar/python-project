{
 "cells": [
  {
   "cell_type": "markdown",
   "metadata": {},
   "source": [
    "Given a positive integer, find out all prime numbers from 1 up to this number.\n"
   ]
  },
  {
   "cell_type": "code",
   "execution_count": 1,
   "metadata": {},
   "outputs": [
    {
     "name": "stdout",
     "output_type": "stream",
     "text": [
      "2\n",
      "3\n",
      "5\n",
      "7\n",
      "11\n",
      "13\n",
      "17\n",
      "19\n",
      "23\n",
      "29\n",
      "31\n",
      "37\n",
      "41\n",
      "43\n"
     ]
    }
   ],
   "source": [
    "a=int(input('Enter an integer'))\n",
    "#Run a loop from 2 to given value\n",
    "for i in range(2,a+1):\n",
    "    count=0\n",
    "    # Run another loop so we can check one by one\n",
    "    for j in range(2,int(i**0.5)+1):\n",
    "        # if any value fully divisible by j than it is not prime\n",
    "        if i%j==0:\n",
    "            count+=1\n",
    "    if count==0:\n",
    "        print(i)\n",
    "\n"
   ]
  }
 ],
 "metadata": {
  "kernelspec": {
   "display_name": "Python 3",
   "language": "python",
   "name": "python3"
  },
  "language_info": {
   "codemirror_mode": {
    "name": "ipython",
    "version": 3
   },
   "file_extension": ".py",
   "mimetype": "text/x-python",
   "name": "python",
   "nbconvert_exporter": "python",
   "pygments_lexer": "ipython3",
   "version": "3.11.4"
  }
 },
 "nbformat": 4,
 "nbformat_minor": 2
}
