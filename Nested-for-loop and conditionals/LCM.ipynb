{
 "cells": [
  {
   "cell_type": "markdown",
   "metadata": {},
   "source": [
    "Given two numbers, find its Least Common Multiple (LCM).\n",
    "roduct."
   ]
  },
  {
   "cell_type": "code",
   "execution_count": 1,
   "metadata": {},
   "outputs": [
    {
     "name": "stdout",
     "output_type": "stream",
     "text": [
      "The LCM of 7 and 9 is 63\n"
     ]
    }
   ],
   "source": [
    "num1=int(input(\"enter first no.\"))\n",
    "num2=int(input(\"enter second no.\"))\n",
    "#Take maximum value\n",
    "if num1>num2:\n",
    "    max_num=num1\n",
    "else:\n",
    "    max_num=num2\n",
    "# Run loop from maximum value to product of that no.\n",
    "for i in range(max_num,(num1*num2)+1):\n",
    "\n",
    "    if i%num1==0 and i%num2==0:\n",
    "        lcm=i\n",
    "        # Use break to stop the loop where the value divisible by both no.\n",
    "        break\n",
    "\n",
    "print(\"The LCM of\",num1,'and',num2,'is',lcm)\n"
   ]
  },
  {
   "cell_type": "code",
   "execution_count": null,
   "metadata": {},
   "outputs": [],
   "source": []
  }
 ],
 "metadata": {
  "kernelspec": {
   "display_name": "Python 3",
   "language": "python",
   "name": "python3"
  },
  "language_info": {
   "codemirror_mode": {
    "name": "ipython",
    "version": 3
   },
   "file_extension": ".py",
   "mimetype": "text/x-python",
   "name": "python",
   "nbconvert_exporter": "python",
   "pygments_lexer": "ipython3",
   "version": "3.11.4"
  }
 },
 "nbformat": 4,
 "nbformat_minor": 2
}
