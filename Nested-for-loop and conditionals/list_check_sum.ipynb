{
 "cells": [
  {
   "cell_type": "markdown",
   "metadata": {},
   "source": [
    "Given a list of integers, find all pairs of integers in the list whose sum is zero.\n"
   ]
  },
  {
   "cell_type": "code",
   "execution_count": 1,
   "metadata": {},
   "outputs": [
    {
     "name": "stdout",
     "output_type": "stream",
     "text": [
      "[(4, -4), (4, -4), (-2, 2), (6, -6), (-4, 4), (-4, 4), (2, -2), (-6, 6)]\n"
     ]
    }
   ],
   "source": [
    "lst=[3,4,-2,6,-4,-4,2,-5,-6]\n",
    "#create a empty list to store output\n",
    "lst_pair=[]\n",
    "# Run two loops in one list so value can compare\n",
    "for i in lst:\n",
    "   for j in lst:\n",
    "      # Check the addition of pair\n",
    "      if i+j==0:\n",
    "         pair=(i,j)\n",
    "         # Add pair in list\n",
    "         lst_pair.append(pair)\n",
    "      \n",
    "print(lst_pair)"
   ]
  },
  {
   "cell_type": "code",
   "execution_count": null,
   "metadata": {},
   "outputs": [],
   "source": []
  }
 ],
 "metadata": {
  "kernelspec": {
   "display_name": "Python 3",
   "language": "python",
   "name": "python3"
  },
  "language_info": {
   "codemirror_mode": {
    "name": "ipython",
    "version": 3
   },
   "file_extension": ".py",
   "mimetype": "text/x-python",
   "name": "python",
   "nbconvert_exporter": "python",
   "pygments_lexer": "ipython3",
   "version": "3.11.4"
  }
 },
 "nbformat": 4,
 "nbformat_minor": 2
}
