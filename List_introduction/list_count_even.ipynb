{
 "cells": [
  {
   "cell_type": "markdown",
   "metadata": {},
   "source": [
    "Given a list of integer, find out how many even numbers it has."
   ]
  },
  {
   "cell_type": "code",
   "execution_count": 1,
   "metadata": {},
   "outputs": [
    {
     "name": "stdout",
     "output_type": "stream",
     "text": [
      "5\n"
     ]
    }
   ],
   "source": [
    "# create a list of numbers\n",
    "lst=[66,87,98,34,24,78]\n",
    "# Initialize a variable 'count' to keep track of the count of even no.\n",
    "count=0\n",
    "# iterate the element of list\n",
    "for i in lst:\n",
    "    # check if the current element 'i' is even or not (by divisible by 2)\n",
    "    if i%2==0:\n",
    "        # if 'i' is even then count increment by 1 \n",
    "        count+=1\n",
    "# print the final count of even no.\n",
    "print(count)"
   ]
  }
 ],
 "metadata": {
  "kernelspec": {
   "display_name": "Python 3",
   "language": "python",
   "name": "python3"
  },
  "language_info": {
   "codemirror_mode": {
    "name": "ipython",
    "version": 3
   },
   "file_extension": ".py",
   "mimetype": "text/x-python",
   "name": "python",
   "nbconvert_exporter": "python",
   "pygments_lexer": "ipython3",
   "version": "3.11.4"
  }
 },
 "nbformat": 4,
 "nbformat_minor": 2
}
