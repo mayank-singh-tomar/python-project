{
 "cells": [
  {
   "cell_type": "markdown",
   "metadata": {},
   "source": [
    "Given a list of numbers, find out the index of another given number."
   ]
  },
  {
   "cell_type": "code",
   "execution_count": null,
   "metadata": {},
   "outputs": [],
   "source": [
    "num=int(input('enter any value from list'))\n",
    "lst=[34,65,78,56,32,44,12,47]\n",
    "#Take an variable to count all element\n",
    "count=0\n",
    "for i in lst:\n",
    "    # check if input present in list or not\n",
    "    if num==i:\n",
    "        print('The index of',num,'is',count)\n",
    "    count+=1\n",
    "    "
   ]
  }
 ],
 "metadata": {
  "language_info": {
   "name": "python"
  }
 },
 "nbformat": 4,
 "nbformat_minor": 2
}
