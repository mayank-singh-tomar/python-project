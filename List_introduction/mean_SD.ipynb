{
 "cells": [
  {
   "cell_type": "markdown",
   "metadata": {},
   "source": [
    "Given a list of numbers, find out the mean and standard deviation."
   ]
  },
  {
   "cell_type": "code",
   "execution_count": 1,
   "metadata": {},
   "outputs": [
    {
     "name": "stdout",
     "output_type": "stream",
     "text": [
      "4.5 2.29128784747792\n"
     ]
    }
   ],
   "source": [
    "lst=[1,2,3,4,5,6,7,8]\n",
    "#Take variables to store values \n",
    "lst_sum=0\n",
    "lst_len=0\n",
    "lst_square=0\n",
    "sd=0\n",
    "#Run a loop to add all values\n",
    "for i in lst:\n",
    "    lst_sum+=i\n",
    "    lst_len+=1\n",
    "    lst_square+=i**2\n",
    "mean=lst_sum/lst_len\n",
    "# Apply formula of standard deviation  \n",
    "sd+=((lst_square/lst_len)-(mean)**2)**0.5\n",
    "print(mean,sd)"
   ]
  }
 ],
 "metadata": {
  "kernelspec": {
   "display_name": "Python 3",
   "language": "python",
   "name": "python3"
  },
  "language_info": {
   "codemirror_mode": {
    "name": "ipython",
    "version": 3
   },
   "file_extension": ".py",
   "mimetype": "text/x-python",
   "name": "python",
   "nbconvert_exporter": "python",
   "pygments_lexer": "ipython3",
   "version": "3.11.4"
  }
 },
 "nbformat": 4,
 "nbformat_minor": 2
}
